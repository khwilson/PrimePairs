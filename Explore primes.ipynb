{
 "cells": [
  {
   "cell_type": "code",
   "execution_count": 1,
   "metadata": {
    "collapsed": true
   },
   "outputs": [],
   "source": [
    "from __future__ import print_function\n",
    "\n",
    "import sys\n",
    "\n",
    "from matplotlib import pylab as plt\n",
    "import numpy as np\n",
    "from scipy import stats as st\n",
    "%matplotlib inline"
   ]
  },
  {
   "cell_type": "code",
   "execution_count": 2,
   "metadata": {
    "collapsed": true
   },
   "outputs": [],
   "source": [
    "def find_primes(N):\n",
    "    print(\"Allocating lots of space\")\n",
    "    sys.stdout.flush()\n",
    "    output = np.ones(N, dtype=bool)\n",
    "    output[0] = output[1] = False\n",
    "    output[4:N:2] = False\n",
    "    print(\"Starting loop\")\n",
    "    sys.stdout.flush()\n",
    "    for p in range(3, N, 2):\n",
    "        if p % 50001 == 0:\n",
    "            print(p)\n",
    "            sys.stdout.flush()\n",
    "        if output[p]:\n",
    "            output[2*p:N:p] = False\n",
    "    return output"
   ]
  },
  {
   "cell_type": "code",
   "execution_count": 3,
   "metadata": {
    "collapsed": false
   },
   "outputs": [
    {
     "data": {
      "text/plain": [
       "'\\nRan this ahead of time\\n\\nnp.save(find_primes(N))\\n'"
      ]
     },
     "execution_count": 3,
     "metadata": {},
     "output_type": "execute_result"
    }
   ],
   "source": [
    "N = int(2.5e9)\n",
    "output_file = 'output_{}'.format(N)\n",
    "\"\"\"\n",
    "Ran this ahead of time\n",
    "\n",
    "np.save(find_primes(N))\n",
    "\"\"\""
   ]
  },
  {
   "cell_type": "code",
   "execution_count": 4,
   "metadata": {
    "collapsed": false
   },
   "outputs": [],
   "source": [
    "mask = np.load(output_file + '.npy')\n",
    "primes = np.nonzero(mask)[0][:int(1e8)]\n",
    "\n",
    "mask = None  # Save some space"
   ]
  },
  {
   "cell_type": "code",
   "execution_count": 5,
   "metadata": {
    "collapsed": true
   },
   "outputs": [],
   "source": [
    "num_primes = int(1e8)  # Consistent with Lemke Oliver/Sound\n",
    "\n",
    "primes = primes[:num_primes]"
   ]
  },
  {
   "cell_type": "code",
   "execution_count": 6,
   "metadata": {
    "collapsed": false
   },
   "outputs": [
    {
     "name": "stdout",
     "output_type": "stream",
     "text": [
      "mod 3 first residue 1 binned by second residue\n",
      "[       0 22332857 27665880]\n",
      "mod 3 first residue 2 binned by second residue\n",
      "[       1 27665880 22335380]\n"
     ]
    }
   ],
   "source": [
    "mod_what = 3\n",
    "\n",
    "mod = np.mod(primes, mod_what)\n",
    "for first in (1, 2):\n",
    "    print(\"mod {} first residue {} binned by second residue\".format(mod_what, first))\n",
    "    print(np.bincount(mod[1:][mod[:-1] == first]))"
   ]
  },
  {
   "cell_type": "code",
   "execution_count": 7,
   "metadata": {
    "collapsed": false
   },
   "outputs": [
    {
     "name": "stdout",
     "output_type": "stream",
     "text": [
      "mod 10 first residue 1 binned by second residue\n",
      "[      0 4623041       0 7429438       0       0       0 7504612       0\n",
      " 5442344]\n",
      "mod 10 first residue 3 binned by second residue\n",
      "[      0 6010981       0 4442561       0       1       0 7043695       0\n",
      " 7502896]\n",
      "mod 10 first residue 7 binned by second residue\n",
      "[      0 6373982       0 6755195       0       0       0 4439355       0\n",
      " 7431870]\n",
      "mod 10 first residue 9 binned by second residue\n",
      "[      0 7991431       0 6372940       0       0       0 6012739       0\n",
      " 4622916]\n"
     ]
    }
   ],
   "source": [
    "mod_what = 10\n",
    "\n",
    "mod = np.mod(primes, mod_what)\n",
    "for first in (1, 3, 7, 9):\n",
    "    print(\"mod {} first residue {} binned by second residue\".format(mod_what, first))\n",
    "    print(np.bincount(mod[1:][mod[:-1] == first]))"
   ]
  },
  {
   "cell_type": "markdown",
   "metadata": {},
   "source": [
    "Seems approximately in line with Lemke Oliver/Sound's paper. Off by a few. Likely due to our choices of stopping conditions. Shouldn't really affect things."
   ]
  },
  {
   "cell_type": "code",
   "execution_count": 8,
   "metadata": {
    "collapsed": false
   },
   "outputs": [
    {
     "name": "stdout",
     "output_type": "stream",
     "text": [
      "mod 239 first residue 1 binned by second residue\n",
      "[    0     0     0 27343     0 27660     0 48887     0 21570     0 28011\n",
      "     0 36096     0 20151     0 15123     0 27509     0 15237     0 12994\n",
      "     0 19748     0  9343     0 10207     0 18346     0  5740     0  6013\n",
      "     0  9924     0  4746     0  5580     0  8309     0  3443     0  2881\n",
      "     0  5058     0  2922     0  2118     0  3762     0  1945     0  1559\n",
      "     0  3349     0  1099     0  1005     0  1979     0   763     0  1125\n",
      "     0  1189     0   565     0   577     0  1016     0   538     0   367\n",
      "     0   738     0   261     0   261     0   596     0   150     0   177\n",
      "     0   295     0   154     0   177     0   221     0   102     0    85\n",
      "     0   155     0    98     0    78     0   131     0    37     0    57\n",
      "     0    94     0    38     0    32     0    66     0    17     0    27\n",
      "     0    34     0    13     0    17     0    16     0    18     0     7\n",
      "     0    19     0     5     0     6     0     7     0     4     0     5\n",
      "     0    11     0     3     0     3     0     9     0     3     0     3\n",
      "     0     5     0     3     0     1     0     8     0     0     0     2\n",
      "     0     1     0     2     0     0     0     0     0     1     0     0\n",
      "     0     1     0     0     0     0     0     1     0     0     0     0\n",
      "     0     0     0     0     0     0     0     1     0     1]\n"
     ]
    }
   ],
   "source": [
    "# But what if we do this modulo a large prime?\n",
    "\n",
    "mod_what = 239\n",
    "assert mod_what in primes\n",
    "\n",
    "mod = np.mod(primes, mod_what)\n",
    "first = 1\n",
    "print(\"mod {} first residue {} binned by second residue\".format(mod_what, first))\n",
    "print(np.bincount(mod[1:][mod[:-1] == first]))"
   ]
  },
  {
   "cell_type": "markdown",
   "metadata": {},
   "source": [
    "Ummmmmmm, that's super weird...... What's up with this \"no every other\" pattern? 239 is a prime....."
   ]
  },
  {
   "cell_type": "code",
   "execution_count": 9,
   "metadata": {
    "collapsed": false
   },
   "outputs": [
    {
     "name": "stdout",
     "output_type": "stream",
     "text": [
      "mod 239 first residue 2 binned by second residue\n",
      "[    0     1     0     1 27206     0 27506     0 49020     0 21756     0\n",
      " 28101     0 36560     0 19972     0 15105     0 27450     0 15111     0\n",
      " 13038     0 19623     0  9289     0 10112     0 18456     0  5697     0\n",
      "  6030     0  9972     0  4743     0  5518     0  8363     0  3329     0\n",
      "  3009     0  5092     0  2882     0  2122     0  3615     0  1861     0\n",
      "  1564     0  3251     0  1081     0  1146     0  2012     0   811     0\n",
      "  1200     0  1195     0   561     0   549     0   959     0   465     0\n",
      "   372     0   780     0   277     0   288     0   539     0   194     0\n",
      "   182     0   293     0   147     0   177     0   200     0   108     0\n",
      "    85     0   150     0    79     0    90     0   116     0    45     0\n",
      "    45     0    93     0    37     0    32     0    79     0    23     0\n",
      "    32     0    36     0    16     0    16     0    27     0    16     0\n",
      "    11     0    17     0     5     0     9     0    17     0     3     0\n",
      "     3     0     8     0     3     0     5     0     6     0     0     0\n",
      "     3     0     4     0     2     0     1     0     4     0     1     0\n",
      "     2     0     2     0     0     0     0     0     3     0     0     0\n",
      "     0     0     1     0     1     0     0     0     0     0     0     0\n",
      "     0     0     0     0     0     0     0     0     0     0     0     0\n",
      "     1]\n"
     ]
    }
   ],
   "source": [
    "first = 2\n",
    "print(\"mod {} first residue {} binned by second residue\".format(mod_what, first))\n",
    "print(np.bincount(mod[1:][mod[:-1] == first]))"
   ]
  },
  {
   "cell_type": "markdown",
   "metadata": {},
   "source": [
    "Still essentially none every other. Super super weird. Does this keep holding?"
   ]
  },
  {
   "cell_type": "code",
   "execution_count": 10,
   "metadata": {
    "collapsed": false
   },
   "outputs": [],
   "source": [
    "# Counts will end up being the counts of primes following a prime per \"offset residue class\", that is,\n",
    "# mod mod_what, the 2nd \"offset residue class\" from the residue class of 17 is the residue class of 19.\n",
    "# We are summing over *all* residue classes\n",
    "\n",
    "counts = np.zeros(mod_what, dtype=np.int64)\n",
    "for first in range(1, mod_what):\n",
    "    counts_for_first = np.bincount(mod[1:][mod[:-1] == first])\n",
    "    counts_for_first = np.hstack([counts_for_first, np.zeros(mod_what - counts_for_first.size, dtype=np.int64)])\n",
    "    counts += counts_for_first[np.mod(np.arange(first, first + mod_what), mod_what)]"
   ]
  },
  {
   "cell_type": "code",
   "execution_count": 11,
   "metadata": {
    "collapsed": false
   },
   "outputs": [
    {
     "data": {
      "image/png": "[encoded data removed]",
      "text/plain": [
       "<matplotlib.figure.Figure at 0x11346f2d0>"
      ]
     },
     "metadata": {},
     "output_type": "display_data"
    }
   ],
   "source": [
    "# And now we plot. Note the log scale on the y axis because it's quite exponential looking\n",
    "fig = plt.figure(figsize=(10, 8))\n",
    "ax = fig.add_subplot(111)\n",
    "ax.bar(np.arange(mod_what), np.log(counts + 1));"
   ]
  },
  {
   "cell_type": "markdown",
   "metadata": {},
   "source": [
    "Observations:\n",
    "* There are **very** few counts in the even bins, but a few on the LHS\n",
    "* Every 6th bin is super high\n",
    "* That looks like a pretty linear\n",
    "\n",
    "How officially linear?"
   ]
  },
  {
   "cell_type": "code",
   "execution_count": 12,
   "metadata": {
    "collapsed": false
   },
   "outputs": [
    {
     "data": {
      "text/plain": [
       "(-0.11799424195061578,\n",
       " 16.335199996157751,\n",
       " -0.99562348046160565,\n",
       " 2.6880000862360182e-122,\n",
       " 0.0010239446748604366)"
      ]
     },
     "execution_count": 12,
     "metadata": {},
     "output_type": "execute_result"
    }
   ],
   "source": [
    "st.linregress(np.arange(counts[2::2].size), np.log(counts[2::2]))"
   ]
  },
  {
   "cell_type": "markdown",
   "metadata": {},
   "source": [
    "Slope of -0.11799 and a p value of 2e-122. Pretty linear. What would have happened if we had less data? Does the slope change?"
   ]
  },
  {
   "cell_type": "code",
   "execution_count": 13,
   "metadata": {
    "collapsed": false
   },
   "outputs": [],
   "source": [
    "slopes = []\n",
    "for max_elts in np.logspace(10, np.log(num_primes) / np.log(2), base=2):\n",
    "    max_elts = int(max_elts)\n",
    "    small_counts = np.zeros(mod_what, dtype=np.int64)\n",
    "    small_mod = mod[:max_elts]\n",
    "    for first in range(1, mod_what):\n",
    "        counts_for_first = np.bincount(small_mod[1:][small_mod[:-1] == first])\n",
    "        counts_for_first = np.hstack([counts_for_first, np.zeros(mod_what - counts_for_first.size, dtype=np.int64)])\n",
    "        small_counts += counts_for_first[np.mod(np.arange(first, first + mod_what), mod_what)]\n",
    "    slopes.append(st.linregress(np.arange(small_counts[2::2].size), np.log(small_counts[2::2] + 1))[0])"
   ]
  },
  {
   "cell_type": "code",
   "execution_count": 33,
   "metadata": {
    "collapsed": false,
    "scrolled": true
   },
   "outputs": [
    {
     "data": {
      "text/plain": [
       "[<matplotlib.lines.Line2D at 0x114130a90>]"
      ]
     },
     "execution_count": 33,
     "metadata": {},
     "output_type": "execute_result"
    },
    {
     "data": {
      "image/png": "[encoded data removed]",
      "text/plain": [
       "<matplotlib.figure.Figure at 0x1140e2ed0>"
      ]
     },
     "metadata": {},
     "output_type": "display_data"
    }
   ],
   "source": [
    "plt.plot(np.log(np.logspace(10, np.log(num_primes) / np.log(2), base=2)), np.log(-np.array(slopes)))"
   ]
  },
  {
   "cell_type": "code",
   "execution_count": 19,
   "metadata": {
    "collapsed": true
   },
   "outputs": [],
   "source": [
    "# But what if we do this modulo a small prime?\n",
    "\n",
    "mod_what = 11\n",
    "assert mod_what in primes\n",
    "\n",
    "mod = np.mod(primes, mod_what)\n",
    "slopes11 = []\n",
    "for max_elts in np.logspace(10, np.log(num_primes) / np.log(2), base=2):\n",
    "    max_elts = int(max_elts)\n",
    "    small_counts = np.zeros(mod_what, dtype=np.int64)\n",
    "    small_mod = mod[:max_elts]\n",
    "    for first in range(1, mod_what):\n",
    "        counts_for_first = np.bincount(small_mod[1:][small_mod[:-1] == first])\n",
    "        counts_for_first = np.hstack([counts_for_first, np.zeros(mod_what - counts_for_first.size, dtype=np.int64)])\n",
    "        small_counts += counts_for_first[np.mod(np.arange(first, first + mod_what), mod_what)]\n",
    "    slopes11.append(st.linregress(np.arange(small_counts[2::2].size), np.log(small_counts[2::2] + 1))[0])"
   ]
  },
  {
   "cell_type": "code",
   "execution_count": 32,
   "metadata": {
    "collapsed": false
   },
   "outputs": [
    {
     "data": {
      "text/plain": [
       "[<matplotlib.lines.Line2D at 0x114073310>]"
      ]
     },
     "execution_count": 32,
     "metadata": {},
     "output_type": "execute_result"
    },
    {
     "data": {
      "image/png": "[encoded data removed]",
      "text/plain": [
       "<matplotlib.figure.Figure at 0x114578950>"
      ]
     },
     "metadata": {},
     "output_type": "display_data"
    }
   ],
   "source": [
    "plt.plot(np.log(np.logspace(10, np.log(num_primes) / np.log(2), base=2)), np.log(-np.array(slopes11)))"
   ]
  },
  {
   "cell_type": "code",
   "execution_count": 24,
   "metadata": {
    "collapsed": false
   },
   "outputs": [
    {
     "data": {
      "image/png": "[encoded data removed]",
      "text/plain": [
       "<matplotlib.figure.Figure at 0x1138ccf10>"
      ]
     },
     "metadata": {},
     "output_type": "display_data"
    }
   ],
   "source": [
    "# Also, isn't it super weird that it looks like it continues?\n",
    "mod_what = 239\n",
    "idx = np.mod(np.arange(2, 3 * mod_what, 2), mod_what)[:mod_what]  # Why bother computing when you can just cut?\n",
    "fig = plt.figure(figsize=(10, 8))\n",
    "ax = fig.add_subplot(111)\n",
    "ax.bar(np.arange(mod_what), np.log(counts[idx] + 1));"
   ]
  },
  {
   "cell_type": "markdown",
   "metadata": {},
   "source": [
    "Well, maybe that's not all that great. Definitely need to exclude 0 and so forth"
   ]
  }
 ],
 "metadata": {
  "kernelspec": {
   "display_name": "Python 2",
   "language": "python",
   "name": "python2"
  },
  "language_info": {
   "codemirror_mode": {
    "name": "ipython",
    "version": 2
   },
   "file_extension": ".py",
   "mimetype": "text/x-python",
   "name": "python",
   "nbconvert_exporter": "python",
   "pygments_lexer": "ipython2",
   "version": "2.7.11"
  }
 },
 "nbformat": 4,
 "nbformat_minor": 0
}
